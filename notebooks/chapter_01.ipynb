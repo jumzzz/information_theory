{
 "cells": [
  {
   "cell_type": "markdown",
   "metadata": {},
   "source": [
    "# About Chapter 1\n",
    "\n"
   ]
  },
  {
   "cell_type": "markdown",
   "metadata": {},
   "source": [
    "### Stirling's Approximation\n",
    "\n",
    "$$\n",
    "\n",
    "x! \\simeq x^x e^{-x}\n",
    "\n",
    "$$"
   ]
  },
  {
   "cell_type": "markdown",
   "metadata": {},
   "source": [
    "\n",
    "### Binomial Coefficient\n",
    "$$\n",
    "\\binom{n}{k} = \\frac{N!}{(N - r)!r!}\n",
    "$$"
   ]
  },
  {
   "cell_type": "code",
   "execution_count": 20,
   "metadata": {},
   "outputs": [],
   "source": [
    "import numpy as np\n",
    "from scipy import special as ss\n",
    "\n",
    "\n",
    "def factorial_stirling(x):\n",
    "    return (x ** x) * np.exp(-x)"
   ]
  },
  {
   "cell_type": "code",
   "execution_count": 31,
   "metadata": {},
   "outputs": [
    {
     "data": {
      "image/png": "[encoded data removed]",
      "text/plain": [
       "<Figure size 432x288 with 1 Axes>"
      ]
     },
     "metadata": {
      "needs_background": "light"
     },
     "output_type": "display_data"
    }
   ],
   "source": [
    "import matplotlib.pyplot as plt\n",
    "\n",
    "x = np.arange(1, 15)\n",
    "y_fact = ss.factorial(x)\n",
    "y_stirling = factorial_stirling(x)\n",
    "\n",
    "\n",
    "plt.plot(x, y_fact, label='Original factorial')\n",
    "plt.plot(x, y_stirling, label='Stirling Approximation')\n",
    "plt.legend(loc='upper left')\n",
    "\n",
    "plt.show()\n"
   ]
  },
  {
   "cell_type": "code",
   "execution_count": 32,
   "metadata": {},
   "outputs": [
    {
     "data": {
      "text/plain": [
       "array([1.00000000e+00, 2.00000000e+00, 6.00000000e+00, 2.40000000e+01,\n",
       "       1.20000000e+02, 7.20000000e+02, 5.04000000e+03, 4.03200000e+04,\n",
       "       3.62880000e+05, 3.62880000e+06, 3.99168000e+07, 4.79001600e+08,\n",
       "       6.22702080e+09, 8.71782912e+10])"
      ]
     },
     "execution_count": 32,
     "metadata": {},
     "output_type": "execute_result"
    }
   ],
   "source": [
    "y_fact"
   ]
  },
  {
   "cell_type": "code",
   "execution_count": 34,
   "metadata": {},
   "outputs": [
    {
     "data": {
      "text/plain": [
       "array([3.67879441e-01, 5.41341133e-01, 1.34425085e+00, 4.68880356e+00,\n",
       "       2.10560844e+01, 1.15648662e+02, 7.50974010e+02, 5.62812897e+03,\n",
       "       4.78114866e+04, 4.53999298e+05, 4.76519015e+06, 5.47824145e+07,\n",
       "       6.84597510e+08, 9.23995280e+09])"
      ]
     },
     "execution_count": 34,
     "metadata": {},
     "output_type": "execute_result"
    }
   ],
   "source": [
    "y_stirling"
   ]
  },
  {
   "cell_type": "code",
   "execution_count": null,
   "metadata": {},
   "outputs": [],
   "source": []
  }
 ],
 "metadata": {
  "kernelspec": {
   "display_name": "Python 3.8.12 ('ml')",
   "language": "python",
   "name": "python3"
  },
  "language_info": {
   "codemirror_mode": {
    "name": "ipython",
    "version": 3
   },
   "file_extension": ".py",
   "mimetype": "text/x-python",
   "name": "python",
   "nbconvert_exporter": "python",
   "pygments_lexer": "ipython3",
   "version": "3.8.12"
  },
  "orig_nbformat": 4,
  "vscode": {
   "interpreter": {
    "hash": "34f1770ab77a7e705b9d81304d1ae7cd67311266c3bf030cb696e5ffe5c0f18c"
   }
  }
 },
 "nbformat": 4,
 "nbformat_minor": 2
}
